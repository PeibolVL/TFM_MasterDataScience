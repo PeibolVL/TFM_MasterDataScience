{
 "cells": [
  {
   "cell_type": "markdown",
   "metadata": {},
   "source": [
    "# Creación de un mapa de contaminación"
   ]
  },
  {
   "cell_type": "markdown",
   "metadata": {},
   "source": [
    "##### Se pretende cargar la posición de las estaciones de medición de contaminantes junto con sus contaminantes y realizar una interpolación de estos contaminantes en todo un mallado entre las estaciones conocidas."
   ]
  },
  {
   "cell_type": "code",
   "execution_count": 1,
   "metadata": {},
   "outputs": [],
   "source": [
    "import numpy as np\n",
    "import pandas as pd\n",
    "import re"
   ]
  },
  {
   "cell_type": "code",
   "execution_count": 2,
   "metadata": {},
   "outputs": [],
   "source": [
    "def dms2dd(input):\n",
    "    \"Esta función tranforma un punto expresado en coordenadas geográficas a coordenadas UTM\"\n",
    "    degrees,minutes,seconds,direction=re.split('[º\\´\"]+',str(input))\n",
    "    dd = float(degrees) + float(minutes)/60 + float(seconds)/(60*60);\n",
    "    if direction == 'S' or direction == 'W':\n",
    "        dd *= -1\n",
    "    return dd;"
   ]
  },
  {
   "cell_type": "markdown",
   "metadata": {},
   "source": [
    "##### Se leeran las coordenadas de las estaciones y se filtrarán las que son de nuestro interés"
   ]
  },
  {
   "cell_type": "code",
   "execution_count": 3,
   "metadata": {},
   "outputs": [],
   "source": [
    "posicion_estaciones=pd.read_excel('./data/EstacionesLocalizacion.xlsx') #Se carga el fichero"
   ]
  },
  {
   "cell_type": "code",
   "execution_count": 4,
   "metadata": {},
   "outputs": [],
   "source": [
    "Estacion=[4,8,11,35,38,39,48,49,50] #Estaciones para nuestro estudio"
   ]
  },
  {
   "cell_type": "code",
   "execution_count": 5,
   "metadata": {},
   "outputs": [
    {
     "data": {
      "text/html": [
       "<div>\n",
       "<style scoped>\n",
       "    .dataframe tbody tr th:only-of-type {\n",
       "        vertical-align: middle;\n",
       "    }\n",
       "\n",
       "    .dataframe tbody tr th {\n",
       "        vertical-align: top;\n",
       "    }\n",
       "\n",
       "    .dataframe thead th {\n",
       "        text-align: right;\n",
       "    }\n",
       "</style>\n",
       "<table border=\"1\" class=\"dataframe\">\n",
       "  <thead>\n",
       "    <tr style=\"text-align: right;\">\n",
       "      <th></th>\n",
       "      <th>Estacion</th>\n",
       "      <th>Columna1</th>\n",
       "      <th>Latitud</th>\n",
       "      <th>Longitud</th>\n",
       "    </tr>\n",
       "  </thead>\n",
       "  <tbody>\n",
       "    <tr>\n",
       "      <th>0</th>\n",
       "      <td>4</td>\n",
       "      <td>Plaza de España</td>\n",
       "      <td>40º25´25.98\"N</td>\n",
       "      <td>3º42´43.91\"O</td>\n",
       "    </tr>\n",
       "    <tr>\n",
       "      <th>1</th>\n",
       "      <td>8</td>\n",
       "      <td>Escuelas Aguirre</td>\n",
       "      <td>40º25´17.63\"N</td>\n",
       "      <td>3º40´56.22\"O</td>\n",
       "    </tr>\n",
       "    <tr>\n",
       "      <th>2</th>\n",
       "      <td>11</td>\n",
       "      <td>Av Ramon y Cajal</td>\n",
       "      <td>40º27´5.29\"N</td>\n",
       "      <td>3º40´38.5\"O</td>\n",
       "    </tr>\n",
       "    <tr>\n",
       "      <th>9</th>\n",
       "      <td>35</td>\n",
       "      <td>Plaza del carmen</td>\n",
       "      <td>40º25´9.15\"N</td>\n",
       "      <td>3º42´11.4\"O</td>\n",
       "    </tr>\n",
       "    <tr>\n",
       "      <th>11</th>\n",
       "      <td>38</td>\n",
       "      <td>Cuatro Caminos</td>\n",
       "      <td>40º26´43.97\"N</td>\n",
       "      <td>3º42´25.64\"O</td>\n",
       "    </tr>\n",
       "    <tr>\n",
       "      <th>12</th>\n",
       "      <td>39</td>\n",
       "      <td>Barrio del pilar</td>\n",
       "      <td>40º28´41.64\"N</td>\n",
       "      <td>3º42´41.53\"O</td>\n",
       "    </tr>\n",
       "    <tr>\n",
       "      <th>15</th>\n",
       "      <td>48</td>\n",
       "      <td>Paseo Castellana</td>\n",
       "      <td>40º26´23.61\"N</td>\n",
       "      <td>3º41´25.34\"O</td>\n",
       "    </tr>\n",
       "    <tr>\n",
       "      <th>16</th>\n",
       "      <td>49</td>\n",
       "      <td>Retiro</td>\n",
       "      <td>40º24´52\"N</td>\n",
       "      <td>3º40´57.3\"O</td>\n",
       "    </tr>\n",
       "    <tr>\n",
       "      <th>17</th>\n",
       "      <td>50</td>\n",
       "      <td>Plaza Castilla</td>\n",
       "      <td>40º27´56.1\"N</td>\n",
       "      <td>3º41´19.48\"O</td>\n",
       "    </tr>\n",
       "  </tbody>\n",
       "</table>\n",
       "</div>"
      ],
      "text/plain": [
       "    Estacion          Columna1        Latitud      Longitud\n",
       "0          4   Plaza de España  40º25´25.98\"N  3º42´43.91\"O\n",
       "1          8  Escuelas Aguirre  40º25´17.63\"N  3º40´56.22\"O\n",
       "2         11  Av Ramon y Cajal   40º27´5.29\"N   3º40´38.5\"O\n",
       "9         35  Plaza del carmen   40º25´9.15\"N   3º42´11.4\"O\n",
       "11        38    Cuatro Caminos  40º26´43.97\"N  3º42´25.64\"O\n",
       "12        39  Barrio del pilar  40º28´41.64\"N  3º42´41.53\"O\n",
       "15        48  Paseo Castellana  40º26´23.61\"N  3º41´25.34\"O\n",
       "16        49            Retiro     40º24´52\"N   3º40´57.3\"O\n",
       "17        50    Plaza Castilla   40º27´56.1\"N  3º41´19.48\"O"
      ]
     },
     "execution_count": 5,
     "metadata": {},
     "output_type": "execute_result"
    }
   ],
   "source": [
    "posicion_estaciones=posicion_estaciones[posicion_estaciones['Estacion'].isin(Estacion)]\n",
    "posicion_estaciones"
   ]
  },
  {
   "cell_type": "markdown",
   "metadata": {},
   "source": [
    "##### Se convertirán los valores de Latitud y Longitud en coordenadas decimales"
   ]
  },
  {
   "cell_type": "code",
   "execution_count": 6,
   "metadata": {
    "scrolled": true
   },
   "outputs": [],
   "source": [
    "posicion_estaciones[['Latitud','Longitud']]=posicion_estaciones[['Latitud','Longitud']].applymap(dms2dd)"
   ]
  },
  {
   "cell_type": "code",
   "execution_count": 41,
   "metadata": {
    "scrolled": true
   },
   "outputs": [],
   "source": [
    "sortLatitud=posicion_estaciones['Latitud'].sort_values()\n",
    "sortLongitud=posicion_estaciones['Longitud'].sort_values()"
   ]
  },
  {
   "cell_type": "markdown",
   "metadata": {},
   "source": [
    "##### Se desea obtener una matriz de puntos sobre la que realizar una interpolación. La interpolación se realizará sobre los puntos conocidos, para obtener una matriz de valores contaminantes, que representará la polución en cada espacio geografico de Madrid capital"
   ]
  },
  {
   "cell_type": "code",
   "execution_count": 8,
   "metadata": {
    "scrolled": true
   },
   "outputs": [],
   "source": [
    "Longitud_maxmin=(posicion_estaciones['Longitud'].min(),posicion_estaciones['Longitud'].max())\n",
    "Latitud_maxmin=(posicion_estaciones['Latitud'].min(),posicion_estaciones['Latitud'].max())"
   ]
  },
  {
   "cell_type": "code",
   "execution_count": 43,
   "metadata": {},
   "outputs": [],
   "source": [
    "Latitudes=[]\n",
    "Longitudes=[]\n",
    "for i in range(0,(len(sortLatitud)-1)):\n",
    "    inicioLat=sortLatitud.iloc[i]\n",
    "    inicioLon=sortLongitud.iloc[i]\n",
    "    finLat=sortLatitud.iloc[i+1]\n",
    "    finLon=sortLongitud.iloc[i+1]\n",
    "    betweenLat=np.arange(inicioLat,finLat,0.001)\n",
    "    betweenLon=np.arange(inicioLon,finLon,0.001)\n",
    "    Latitudes.extend(betweenLat)\n",
    "    Longitudes.extend(betweenLon)\n"
   ]
  },
  {
   "cell_type": "code",
   "execution_count": 44,
   "metadata": {},
   "outputs": [
    {
     "data": {
      "text/plain": [
       "2584"
      ]
     },
     "execution_count": 44,
     "metadata": {},
     "output_type": "execute_result"
    }
   ],
   "source": [
    "len(Latitudes)*len(Longitudes)"
   ]
  },
  {
   "cell_type": "code",
   "execution_count": null,
   "metadata": {},
   "outputs": [],
   "source": []
  }
 ],
 "metadata": {
  "kernelspec": {
   "display_name": "Python 3",
   "language": "python",
   "name": "python3"
  },
  "language_info": {
   "codemirror_mode": {
    "name": "ipython",
    "version": 3
   },
   "file_extension": ".py",
   "mimetype": "text/x-python",
   "name": "python",
   "nbconvert_exporter": "python",
   "pygments_lexer": "ipython3",
   "version": "3.6.8"
  }
 },
 "nbformat": 4,
 "nbformat_minor": 2
}
