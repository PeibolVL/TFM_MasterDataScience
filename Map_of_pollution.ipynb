{
 "cells": [
  {
   "cell_type": "markdown",
   "metadata": {},
   "source": [
    "# Creación de un mapa de contaminación"
   ]
  },
  {
   "cell_type": "markdown",
   "metadata": {},
   "source": [
    "Se pretende cargar la posición de las estaciones de medición de contaminantes junto con sus contaminantes y realizar una interpolación de estos contaminantes en todo un mallado entre las estaciones conocidas."
   ]
  },
  {
   "cell_type": "code",
   "execution_count": 1,
   "metadata": {},
   "outputs": [],
   "source": [
    "import numpy as np\n",
    "import pandas as pd\n",
    "import re\n",
    "from scipy.interpolate import SmoothBivariateSpline\n",
    "import matplotlib.pyplot as plt \n",
    "import pyarrow #uninstall libboost & conda install pyarrow=0.13.* -c conda-forge"
   ]
  },
  {
   "cell_type": "code",
   "execution_count": 2,
   "metadata": {},
   "outputs": [],
   "source": [
    "def dms2dd(input):\n",
    "    \"Esta función tranforma un punto expresado en coordenadas geográficas a coordenadas UTM\"\n",
    "    degrees,minutes,seconds,direction=re.split('[º\\´\"]+',str(input))\n",
    "    dd = float(degrees) + float(minutes)/60 + float(seconds)/(60*60);\n",
    "    if direction == 'S' or direction == 'W':\n",
    "        dd *= -1\n",
    "    return dd;"
   ]
  },
  {
   "cell_type": "markdown",
   "metadata": {},
   "source": [
    "Se leeran las coordenadas de las estaciones y se filtrarán las que son de nuestro interés"
   ]
  },
  {
   "cell_type": "code",
   "execution_count": 3,
   "metadata": {},
   "outputs": [],
   "source": [
    "posicion_estaciones=pd.read_excel('./data/EstacionesLocalizacion.xlsx') #Se carga el fichero"
   ]
  },
  {
   "cell_type": "markdown",
   "metadata": {},
   "source": [
    "Se filtra el fichero de estaciones a la estaciones de nuestro estudio"
   ]
  },
  {
   "cell_type": "code",
   "execution_count": 4,
   "metadata": {},
   "outputs": [
    {
     "data": {
      "text/html": [
       "<div>\n",
       "<style scoped>\n",
       "    .dataframe tbody tr th:only-of-type {\n",
       "        vertical-align: middle;\n",
       "    }\n",
       "\n",
       "    .dataframe tbody tr th {\n",
       "        vertical-align: top;\n",
       "    }\n",
       "\n",
       "    .dataframe thead th {\n",
       "        text-align: right;\n",
       "    }\n",
       "</style>\n",
       "<table border=\"1\" class=\"dataframe\">\n",
       "  <thead>\n",
       "    <tr style=\"text-align: right;\">\n",
       "      <th></th>\n",
       "      <th>Columna1</th>\n",
       "      <th>Latitud</th>\n",
       "      <th>Longitud</th>\n",
       "    </tr>\n",
       "    <tr>\n",
       "      <th>Estacion</th>\n",
       "      <th></th>\n",
       "      <th></th>\n",
       "      <th></th>\n",
       "    </tr>\n",
       "  </thead>\n",
       "  <tbody>\n",
       "    <tr>\n",
       "      <th>47</th>\n",
       "      <td>Mendez Alavaro</td>\n",
       "      <td>40º23´53.17\"N</td>\n",
       "      <td>3º41´12.57\"O</td>\n",
       "    </tr>\n",
       "    <tr>\n",
       "      <th>11</th>\n",
       "      <td>Av Ramon y Cajal</td>\n",
       "      <td>40º27´5.29\"N</td>\n",
       "      <td>3º40´38.5\"O</td>\n",
       "    </tr>\n",
       "    <tr>\n",
       "      <th>8</th>\n",
       "      <td>Escuelas Aguirre</td>\n",
       "      <td>40º25´17.63\"N</td>\n",
       "      <td>3º40´56.22\"O</td>\n",
       "    </tr>\n",
       "    <tr>\n",
       "      <th>49</th>\n",
       "      <td>Retiro</td>\n",
       "      <td>40º24´52\"N</td>\n",
       "      <td>3º40´57.3\"O</td>\n",
       "    </tr>\n",
       "    <tr>\n",
       "      <th>50</th>\n",
       "      <td>Plaza Castilla</td>\n",
       "      <td>40º27´56.1\"N</td>\n",
       "      <td>3º41´19.48\"O</td>\n",
       "    </tr>\n",
       "    <tr>\n",
       "      <th>48</th>\n",
       "      <td>Paseo Castellana</td>\n",
       "      <td>40º26´23.61\"N</td>\n",
       "      <td>3º41´25.34\"O</td>\n",
       "    </tr>\n",
       "    <tr>\n",
       "      <th>35</th>\n",
       "      <td>Plaza del carmen</td>\n",
       "      <td>40º25´9.15\"N</td>\n",
       "      <td>3º42´11.4\"O</td>\n",
       "    </tr>\n",
       "    <tr>\n",
       "      <th>38</th>\n",
       "      <td>Cuatro Caminos</td>\n",
       "      <td>40º26´43.97\"N</td>\n",
       "      <td>3º42´25.64\"O</td>\n",
       "    </tr>\n",
       "    <tr>\n",
       "      <th>39</th>\n",
       "      <td>Barrio del pilar</td>\n",
       "      <td>40º28´41.64\"N</td>\n",
       "      <td>3º42´41.53\"O</td>\n",
       "    </tr>\n",
       "    <tr>\n",
       "      <th>4</th>\n",
       "      <td>Plaza de España</td>\n",
       "      <td>40º25´25.98\"N</td>\n",
       "      <td>3º42´43.91\"O</td>\n",
       "    </tr>\n",
       "  </tbody>\n",
       "</table>\n",
       "</div>"
      ],
      "text/plain": [
       "                  Columna1        Latitud      Longitud\n",
       "Estacion                                               \n",
       "47          Mendez Alavaro  40º23´53.17\"N  3º41´12.57\"O\n",
       "11        Av Ramon y Cajal   40º27´5.29\"N   3º40´38.5\"O\n",
       "8         Escuelas Aguirre  40º25´17.63\"N  3º40´56.22\"O\n",
       "49                  Retiro     40º24´52\"N   3º40´57.3\"O\n",
       "50          Plaza Castilla   40º27´56.1\"N  3º41´19.48\"O\n",
       "48        Paseo Castellana  40º26´23.61\"N  3º41´25.34\"O\n",
       "35        Plaza del carmen   40º25´9.15\"N   3º42´11.4\"O\n",
       "38          Cuatro Caminos  40º26´43.97\"N  3º42´25.64\"O\n",
       "39        Barrio del pilar  40º28´41.64\"N  3º42´41.53\"O\n",
       "4          Plaza de España  40º25´25.98\"N  3º42´43.91\"O"
      ]
     },
     "execution_count": 4,
     "metadata": {},
     "output_type": "execute_result"
    }
   ],
   "source": [
    "Estacion=[4,8,11,35,38,39,47,48,49,50]\n",
    "posicion_estaciones=posicion_estaciones[posicion_estaciones['Estacion'].isin(Estacion)]\n",
    "posicion_estaciones.set_index('Estacion',inplace=True)\n",
    "posicion_estaciones"
   ]
  },
  {
   "cell_type": "markdown",
   "metadata": {},
   "source": [
    "Se convertirán los valores de Latitud y Longitud en coordenadas decimales"
   ]
  },
  {
   "cell_type": "code",
   "execution_count": 5,
   "metadata": {
    "scrolled": true
   },
   "outputs": [],
   "source": [
    "posicion_estaciones[['Latitud','Longitud']]=posicion_estaciones[['Latitud','Longitud']].applymap(lambda x: dms2dd(x))"
   ]
  },
  {
   "cell_type": "code",
   "execution_count": 6,
   "metadata": {},
   "outputs": [
    {
     "data": {
      "text/html": [
       "<div>\n",
       "<style scoped>\n",
       "    .dataframe tbody tr th:only-of-type {\n",
       "        vertical-align: middle;\n",
       "    }\n",
       "\n",
       "    .dataframe tbody tr th {\n",
       "        vertical-align: top;\n",
       "    }\n",
       "\n",
       "    .dataframe thead th {\n",
       "        text-align: right;\n",
       "    }\n",
       "</style>\n",
       "<table border=\"1\" class=\"dataframe\">\n",
       "  <thead>\n",
       "    <tr style=\"text-align: right;\">\n",
       "      <th></th>\n",
       "      <th>Columna1</th>\n",
       "      <th>Latitud</th>\n",
       "      <th>Longitud</th>\n",
       "    </tr>\n",
       "    <tr>\n",
       "      <th>Estacion</th>\n",
       "      <th></th>\n",
       "      <th></th>\n",
       "      <th></th>\n",
       "    </tr>\n",
       "  </thead>\n",
       "  <tbody>\n",
       "    <tr>\n",
       "      <th>47</th>\n",
       "      <td>Mendez Alavaro</td>\n",
       "      <td>40.398103</td>\n",
       "      <td>3.686825</td>\n",
       "    </tr>\n",
       "    <tr>\n",
       "      <th>49</th>\n",
       "      <td>Retiro</td>\n",
       "      <td>40.414444</td>\n",
       "      <td>3.682583</td>\n",
       "    </tr>\n",
       "    <tr>\n",
       "      <th>35</th>\n",
       "      <td>Plaza del carmen</td>\n",
       "      <td>40.419208</td>\n",
       "      <td>3.703167</td>\n",
       "    </tr>\n",
       "    <tr>\n",
       "      <th>8</th>\n",
       "      <td>Escuelas Aguirre</td>\n",
       "      <td>40.421564</td>\n",
       "      <td>3.682283</td>\n",
       "    </tr>\n",
       "    <tr>\n",
       "      <th>4</th>\n",
       "      <td>Plaza de España</td>\n",
       "      <td>40.423883</td>\n",
       "      <td>3.712197</td>\n",
       "    </tr>\n",
       "    <tr>\n",
       "      <th>48</th>\n",
       "      <td>Paseo Castellana</td>\n",
       "      <td>40.439892</td>\n",
       "      <td>3.690372</td>\n",
       "    </tr>\n",
       "    <tr>\n",
       "      <th>38</th>\n",
       "      <td>Cuatro Caminos</td>\n",
       "      <td>40.445547</td>\n",
       "      <td>3.707122</td>\n",
       "    </tr>\n",
       "    <tr>\n",
       "      <th>11</th>\n",
       "      <td>Av Ramon y Cajal</td>\n",
       "      <td>40.451469</td>\n",
       "      <td>3.677361</td>\n",
       "    </tr>\n",
       "    <tr>\n",
       "      <th>50</th>\n",
       "      <td>Plaza Castilla</td>\n",
       "      <td>40.465583</td>\n",
       "      <td>3.688744</td>\n",
       "    </tr>\n",
       "    <tr>\n",
       "      <th>39</th>\n",
       "      <td>Barrio del pilar</td>\n",
       "      <td>40.478233</td>\n",
       "      <td>3.711536</td>\n",
       "    </tr>\n",
       "  </tbody>\n",
       "</table>\n",
       "</div>"
      ],
      "text/plain": [
       "                  Columna1    Latitud  Longitud\n",
       "Estacion                                       \n",
       "47          Mendez Alavaro  40.398103  3.686825\n",
       "49                  Retiro  40.414444  3.682583\n",
       "35        Plaza del carmen  40.419208  3.703167\n",
       "8         Escuelas Aguirre  40.421564  3.682283\n",
       "4          Plaza de España  40.423883  3.712197\n",
       "48        Paseo Castellana  40.439892  3.690372\n",
       "38          Cuatro Caminos  40.445547  3.707122\n",
       "11        Av Ramon y Cajal  40.451469  3.677361\n",
       "50          Plaza Castilla  40.465583  3.688744\n",
       "39        Barrio del pilar  40.478233  3.711536"
      ]
     },
     "execution_count": 6,
     "metadata": {},
     "output_type": "execute_result"
    }
   ],
   "source": [
    "posicion_estaciones.sort_values(['Latitud','Longitud'])"
   ]
  },
  {
   "cell_type": "code",
   "execution_count": 7,
   "metadata": {
    "scrolled": false
   },
   "outputs": [],
   "source": [
    "sortLatitud=posicion_estaciones['Latitud'].sort_values()\n",
    "sortLongitud=posicion_estaciones['Longitud'].sort_values()"
   ]
  },
  {
   "cell_type": "markdown",
   "metadata": {},
   "source": [
    "Se desea obtener una matriz de puntos sobre la que realizar una interpolación. La interpolación se realizará sobre los puntos conocidos, para obtener una matriz de valores contaminantes, que representará la polución en cada espacio geografico de Madrid capital"
   ]
  },
  {
   "cell_type": "code",
   "execution_count": 8,
   "metadata": {
    "scrolled": true
   },
   "outputs": [],
   "source": [
    "Latitudes=[]\n",
    "Longitudes=[]\n",
    "for i in range(0,(len(sortLatitud))):\n",
    "    if i==9:\n",
    "        lastLat=np.round(sortLatitud.iloc[i],decimals=6)\n",
    "        lastLon=np.round(sortLongitud.iloc[i],decimals=6)\n",
    "        Latitudes.append(lastLat)\n",
    "        Longitudes.append(lastLon)\n",
    "    else:\n",
    "        inicioLat=sortLatitud.iloc[i]\n",
    "        inicioLon=sortLongitud.iloc[i]\n",
    "        finLat=sortLatitud.iloc[i+1]\n",
    "        finLon=sortLongitud.iloc[i+1]\n",
    "        betweenLat=np.round(np.arange(inicioLat,finLat,0.001),decimals=6)\n",
    "        betweenLon=np.round(np.arange(inicioLon,finLon,0.001),decimals=6)\n",
    "        Latitudes.extend(betweenLat)\n",
    "        Longitudes.extend(betweenLon)"
   ]
  },
  {
   "cell_type": "code",
   "execution_count": 9,
   "metadata": {
    "scrolled": true
   },
   "outputs": [
    {
     "data": {
      "text/html": [
       "<div>\n",
       "<style scoped>\n",
       "    .dataframe tbody tr th:only-of-type {\n",
       "        vertical-align: middle;\n",
       "    }\n",
       "\n",
       "    .dataframe tbody tr th {\n",
       "        vertical-align: top;\n",
       "    }\n",
       "\n",
       "    .dataframe thead th {\n",
       "        text-align: right;\n",
       "    }\n",
       "</style>\n",
       "<table border=\"1\" class=\"dataframe\">\n",
       "  <thead>\n",
       "    <tr style=\"text-align: right;\">\n",
       "      <th></th>\n",
       "      <th>FECHA</th>\n",
       "      <th>Estacion4</th>\n",
       "      <th>Estacion8</th>\n",
       "      <th>Estacion11</th>\n",
       "      <th>Estacion35</th>\n",
       "      <th>Estacion38</th>\n",
       "      <th>Estacion39</th>\n",
       "      <th>Estacion47</th>\n",
       "      <th>Estacion48</th>\n",
       "      <th>Estacion49</th>\n",
       "      <th>Estacion50</th>\n",
       "    </tr>\n",
       "  </thead>\n",
       "  <tbody>\n",
       "    <tr>\n",
       "      <th>0</th>\n",
       "      <td>2015-01-01 01:00:00</td>\n",
       "      <td>83.0</td>\n",
       "      <td>168.0</td>\n",
       "      <td>93.0</td>\n",
       "      <td>109.0</td>\n",
       "      <td>102.0</td>\n",
       "      <td>104.0</td>\n",
       "      <td>112.0</td>\n",
       "      <td>108.0</td>\n",
       "      <td>136.0</td>\n",
       "      <td>127.0</td>\n",
       "    </tr>\n",
       "    <tr>\n",
       "      <th>1</th>\n",
       "      <td>2015-01-01 02:00:00</td>\n",
       "      <td>77.0</td>\n",
       "      <td>203.0</td>\n",
       "      <td>224.0</td>\n",
       "      <td>133.0</td>\n",
       "      <td>183.0</td>\n",
       "      <td>168.0</td>\n",
       "      <td>120.0</td>\n",
       "      <td>114.0</td>\n",
       "      <td>111.0</td>\n",
       "      <td>170.0</td>\n",
       "    </tr>\n",
       "    <tr>\n",
       "      <th>2</th>\n",
       "      <td>2015-01-01 03:00:00</td>\n",
       "      <td>86.0</td>\n",
       "      <td>220.0</td>\n",
       "      <td>152.0</td>\n",
       "      <td>126.0</td>\n",
       "      <td>193.0</td>\n",
       "      <td>203.0</td>\n",
       "      <td>109.0</td>\n",
       "      <td>141.0</td>\n",
       "      <td>109.0</td>\n",
       "      <td>118.0</td>\n",
       "    </tr>\n",
       "    <tr>\n",
       "      <th>3</th>\n",
       "      <td>2015-01-01 04:00:00</td>\n",
       "      <td>65.0</td>\n",
       "      <td>169.0</td>\n",
       "      <td>151.0</td>\n",
       "      <td>112.0</td>\n",
       "      <td>122.0</td>\n",
       "      <td>147.0</td>\n",
       "      <td>87.0</td>\n",
       "      <td>145.0</td>\n",
       "      <td>99.0</td>\n",
       "      <td>126.0</td>\n",
       "    </tr>\n",
       "    <tr>\n",
       "      <th>4</th>\n",
       "      <td>2015-01-01 05:00:00</td>\n",
       "      <td>53.0</td>\n",
       "      <td>154.0</td>\n",
       "      <td>106.0</td>\n",
       "      <td>109.0</td>\n",
       "      <td>97.0</td>\n",
       "      <td>159.0</td>\n",
       "      <td>76.0</td>\n",
       "      <td>142.0</td>\n",
       "      <td>103.0</td>\n",
       "      <td>140.0</td>\n",
       "    </tr>\n",
       "  </tbody>\n",
       "</table>\n",
       "</div>"
      ],
      "text/plain": [
       "                 FECHA  Estacion4  Estacion8  Estacion11  Estacion35  \\\n",
       "0  2015-01-01 01:00:00       83.0      168.0        93.0       109.0   \n",
       "1  2015-01-01 02:00:00       77.0      203.0       224.0       133.0   \n",
       "2  2015-01-01 03:00:00       86.0      220.0       152.0       126.0   \n",
       "3  2015-01-01 04:00:00       65.0      169.0       151.0       112.0   \n",
       "4  2015-01-01 05:00:00       53.0      154.0       106.0       109.0   \n",
       "\n",
       "   Estacion38  Estacion39  Estacion47  Estacion48  Estacion49  Estacion50  \n",
       "0       102.0       104.0       112.0       108.0       136.0       127.0  \n",
       "1       183.0       168.0       120.0       114.0       111.0       170.0  \n",
       "2       193.0       203.0       109.0       141.0       109.0       118.0  \n",
       "3       122.0       147.0        87.0       145.0        99.0       126.0  \n",
       "4        97.0       159.0        76.0       142.0       103.0       140.0  "
      ]
     },
     "execution_count": 9,
     "metadata": {},
     "output_type": "execute_result"
    }
   ],
   "source": [
    "datos_estaciones=pd.read_csv('./data/NO2_estaciones.csv')\n",
    "datos_estaciones.head()"
   ]
  },
  {
   "cell_type": "code",
   "execution_count": 10,
   "metadata": {},
   "outputs": [],
   "source": [
    "fechas=list(datos_estaciones.FECHA)"
   ]
  },
  {
   "cell_type": "code",
   "execution_count": 11,
   "metadata": {},
   "outputs": [],
   "source": [
    "fechas2015=[]\n",
    "fechas2016=[]\n",
    "fechas2017=[]\n",
    "fechas2018=[]\n",
    "fechas2019=[]\n",
    "fechas2020=[]\n",
    "for date in fechas:\n",
    "    if re.findall('2015', date):\n",
    "        fechas2015.append(date)\n",
    "    elif re.findall('2016', date):\n",
    "        fechas2016.append(date)\n",
    "    elif re.findall('2017', date):\n",
    "        fechas2017.append(date)\n",
    "    elif re.findall('2018', date):\n",
    "        fechas2018.append(date)\n",
    "    elif re.findall('2019', date):\n",
    "        fechas2019.append(date)\n",
    "    else:\n",
    "        fechas2020.append(date)"
   ]
  },
  {
   "cell_type": "code",
   "execution_count": 12,
   "metadata": {},
   "outputs": [],
   "source": [
    "ix1 = pd.MultiIndex.from_product([fechas,Latitudes])"
   ]
  },
  {
   "cell_type": "code",
   "execution_count": 13,
   "metadata": {},
   "outputs": [],
   "source": [
    "mapa = pd.DataFrame(index=ix1, columns=Longitudes, dtype=np.float32)"
   ]
  },
  {
   "cell_type": "code",
   "execution_count": null,
   "metadata": {},
   "outputs": [
    {
     "name": "stdout",
     "output_type": "stream",
     "text": [
      "2016-01-01 00:00:00\n"
     ]
    },
    {
     "name": "stderr",
     "output_type": "stream",
     "text": [
      "/anaconda3/lib/python3.6/site-packages/scipy/interpolate/fitpack2.py:1057: UserWarning: \n",
      "The required storage space exceeds the available storage space: nxest\n",
      "or nyest too small, or s too small.\n",
      "The weighted least-squares spline corresponds to the current set of\n",
      "knots.\n",
      "  warnings.warn(message)\n"
     ]
    },
    {
     "name": "stdout",
     "output_type": "stream",
     "text": [
      "2016-01-01 01:00:00\n",
      "2016-01-01 02:00:00\n",
      "2016-01-01 03:00:00\n",
      "2016-01-01 04:00:00\n",
      "2016-01-01 05:00:00\n",
      "2016-01-01 06:00:00\n",
      "2016-01-01 07:00:00\n",
      "2016-01-01 08:00:00\n",
      "2016-01-01 09:00:00\n",
      "2016-01-01 10:00:00\n",
      "2016-01-01 11:00:00\n",
      "2016-01-01 12:00:00\n",
      "2016-01-01 13:00:00\n",
      "2016-01-01 14:00:00\n",
      "2016-01-01 15:00:00\n",
      "2016-01-01 16:00:00\n",
      "2016-01-01 17:00:00\n",
      "2016-01-01 18:00:00\n",
      "2016-01-01 19:00:00\n",
      "2016-01-01 20:00:00\n",
      "2016-01-01 21:00:00\n",
      "2016-01-01 22:00:00\n",
      "2016-01-01 23:00:00\n",
      "2016-01-02 00:00:00\n",
      "2016-01-02 01:00:00\n",
      "2016-01-02 02:00:00\n",
      "2016-01-02 03:00:00\n",
      "2016-01-02 04:00:00\n",
      "2016-01-02 05:00:00\n",
      "2016-01-02 06:00:00\n",
      "2016-01-02 07:00:00\n",
      "2016-01-02 08:00:00\n",
      "2016-01-02 09:00:00\n",
      "2016-01-02 10:00:00\n",
      "2016-01-02 11:00:00\n",
      "2016-01-02 12:00:00\n",
      "2016-01-02 13:00:00\n",
      "2016-01-02 14:00:00\n",
      "2016-01-02 15:00:00\n",
      "2016-01-02 16:00:00\n",
      "2016-01-02 17:00:00\n",
      "2016-01-02 18:00:00\n",
      "2016-01-02 19:00:00\n",
      "2016-01-02 20:00:00\n",
      "2016-01-02 21:00:00\n",
      "2016-01-02 22:00:00\n",
      "2016-01-02 23:00:00\n",
      "2016-01-03 00:00:00\n",
      "2016-01-03 01:00:00\n",
      "2016-01-03 02:00:00\n",
      "2016-01-03 03:00:00\n",
      "2016-01-03 04:00:00\n",
      "2016-01-03 05:00:00\n",
      "2016-01-03 06:00:00\n",
      "2016-01-03 07:00:00\n",
      "2016-01-03 08:00:00\n",
      "2016-01-03 09:00:00\n",
      "2016-01-03 10:00:00\n",
      "2016-01-03 11:00:00\n",
      "2016-01-03 12:00:00\n",
      "2016-01-03 13:00:00\n",
      "2016-01-03 14:00:00\n",
      "2016-01-03 15:00:00\n",
      "2016-01-03 16:00:00\n",
      "2016-01-03 17:00:00\n",
      "2016-01-03 18:00:00\n",
      "2016-01-03 19:00:00\n",
      "2016-01-03 20:00:00\n",
      "2016-01-03 21:00:00\n",
      "2016-01-03 22:00:00\n",
      "2016-01-03 23:00:00\n",
      "2016-01-04 00:00:00\n",
      "2016-01-04 01:00:00\n",
      "2016-01-04 02:00:00\n",
      "2016-01-04 03:00:00\n",
      "2016-01-04 04:00:00\n",
      "2016-01-04 05:00:00\n",
      "2016-01-04 06:00:00\n",
      "2016-01-04 07:00:00\n",
      "2016-01-04 08:00:00\n",
      "2016-01-04 09:00:00\n",
      "2016-01-04 10:00:00\n",
      "2016-01-04 11:00:00\n",
      "2016-01-04 12:00:00\n",
      "2016-01-04 13:00:00\n",
      "2016-01-04 14:00:00\n",
      "2016-01-04 15:00:00\n",
      "2016-01-04 16:00:00\n",
      "2016-01-04 17:00:00\n",
      "2016-01-04 18:00:00\n",
      "2016-01-04 19:00:00\n",
      "2016-01-04 20:00:00\n",
      "2016-01-04 21:00:00\n",
      "2016-01-04 22:00:00\n",
      "2016-01-04 23:00:00\n",
      "2016-01-05 00:00:00\n",
      "2016-01-05 01:00:00\n",
      "2016-01-05 02:00:00\n",
      "2016-01-05 03:00:00\n",
      "2016-01-05 04:00:00\n",
      "2016-01-05 05:00:00\n",
      "2016-01-05 06:00:00\n",
      "2016-01-05 07:00:00\n",
      "2016-01-05 08:00:00\n",
      "2016-01-05 09:00:00\n",
      "2016-01-05 10:00:00\n",
      "2016-01-05 11:00:00\n",
      "2016-01-05 12:00:00\n",
      "2016-01-05 13:00:00\n",
      "2016-01-05 14:00:00\n",
      "2016-01-05 15:00:00\n",
      "2016-01-05 16:00:00\n",
      "2016-01-05 17:00:00\n",
      "2016-01-05 18:00:00\n",
      "2016-01-05 19:00:00\n",
      "2016-01-05 20:00:00\n",
      "2016-01-05 21:00:00\n",
      "2016-01-05 22:00:00\n",
      "2016-01-05 23:00:00\n",
      "2016-01-06 00:00:00\n",
      "2016-01-06 01:00:00\n",
      "2016-01-06 02:00:00\n",
      "2016-01-06 03:00:00\n"
     ]
    }
   ],
   "source": [
    "for ano in ['2016','2017','2018','2019','2020']:\n",
    "    variable='fechas'+ano\n",
    "    fechas=eval(variable)\n",
    "    for date in fechas:\n",
    "        print(date)\n",
    "        x=[]\n",
    "        y=[]\n",
    "        Z=[]\n",
    "        for i in Estacion:\n",
    "            lat=posicion_estaciones.loc[i,'Latitud'].round(decimals=6)\n",
    "            #print(lat)\n",
    "            lon=posicion_estaciones.loc[i,'Longitud'].round(decimals=6)\n",
    "            #print(lon)\n",
    "            Est='Estacion'+str(i)\n",
    "            sust=float(datos_estaciones[datos_estaciones['FECHA']==date][Est])\n",
    "            #mapa.loc[(date,lat),lon]=sust\n",
    "            x.append(lon)\n",
    "            y.append(lat)\n",
    "            Z.append(sust)\n",
    "        #interp_spline=interpolate.interp2d(y,x,Z,kind='cubic')\n",
    "        interp_spline = SmoothBivariateSpline(y,x,Z,kx=2,ky=2)\n",
    "        mapa.loc[(date),:] = interp_spline(Latitudes,Longitudes)\n",
    "mapa_interp=mapa.stack().reset_index()\n",
    "filename='mapa_interpolado'+ano\n",
    "mapa_interp.to_feather(filename)"
   ]
  },
  {
   "cell_type": "code",
   "execution_count": null,
   "metadata": {},
   "outputs": [],
   "source": [
    "ano='2020'\n",
    "filename='mapa_interpolado'+ano\n",
    "filename"
   ]
  },
  {
   "cell_type": "code",
   "execution_count": null,
   "metadata": {
    "scrolled": true
   },
   "outputs": [],
   "source": [
    "mapa.loc[(edad),:]"
   ]
  },
  {
   "cell_type": "code",
   "execution_count": null,
   "metadata": {},
   "outputs": [],
   "source": [
    "plt.matshow(mapa.loc[(date),:])\n",
    "plt.show()"
   ]
  },
  {
   "cell_type": "markdown",
   "metadata": {},
   "source": [
    "Para poder pasar los datos generados a una versión ordenada, que según Hadley Wickham, deberá realizar un \"melt\""
   ]
  },
  {
   "cell_type": "code",
   "execution_count": null,
   "metadata": {},
   "outputs": [],
   "source": [
    "mapa_interp=mapa.stack().reset_index()"
   ]
  },
  {
   "cell_type": "code",
   "execution_count": null,
   "metadata": {},
   "outputs": [],
   "source": [
    "ano='2020'\n",
    "filename='mapa_interpolado'+ano\n",
    "posicion_estaciones.to_feather(filename)"
   ]
  },
  {
   "cell_type": "code",
   "execution_count": null,
   "metadata": {},
   "outputs": [],
   "source": [
    "ano='2020'\n",
    "variable='fechas'+ano\n",
    "fechas=eval(variable)"
   ]
  },
  {
   "cell_type": "code",
   "execution_count": null,
   "metadata": {},
   "outputs": [],
   "source": [
    "! which python"
   ]
  },
  {
   "cell_type": "code",
   "execution_count": null,
   "metadata": {},
   "outputs": [],
   "source": []
  }
 ],
 "metadata": {
  "kernelspec": {
   "display_name": "Python 3",
   "language": "python",
   "name": "python3"
  },
  "language_info": {
   "codemirror_mode": {
    "name": "ipython",
    "version": 3
   },
   "file_extension": ".py",
   "mimetype": "text/x-python",
   "name": "python",
   "nbconvert_exporter": "python",
   "pygments_lexer": "ipython3",
   "version": "3.6.8"
  }
 },
 "nbformat": 4,
 "nbformat_minor": 2
}
