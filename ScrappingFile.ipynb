{
 "cells": [
  {
   "cell_type": "markdown",
   "metadata": {},
   "source": [
    "# Scrapping data"
   ]
  },
  {
   "cell_type": "markdown",
   "metadata": {},
   "source": [
    "En este fichero se realizara la obtención de los datos de concentraciones de contaminantes atmosféricos proporcionados por la estaciones de medición del ayuntamiento de Madrid."
   ]
  },
  {
   "cell_type": "code",
   "execution_count": 1,
   "metadata": {},
   "outputs": [],
   "source": [
    "import os\n",
    "import re\n",
    "import requests\n",
    "import urllib.request\n",
    "from bs4 import BeautifulSoup\n",
    "from zipfile import ZipFile\n",
    "import fileinput"
   ]
  },
  {
   "cell_type": "code",
   "execution_count": 2,
   "metadata": {},
   "outputs": [],
   "source": [
    "# Enlace de la web de datos de calidad del aire horario del ayuntamiento de madrid \n",
    "enlace = \"https://datos.madrid.es/portal/site/egob/menuitem.c05c1f754a33a9fbe4b2e4b284f1a5a0/?vgnextoid=f3c0f7d512273410VgnVCM2000000c205a0aRCRD&vgnextchannel=374512b9ace9f310VgnVCM100000171f5a0aRCRD&vgnextfmt=default\""
   ]
  },
  {
   "cell_type": "code",
   "execution_count": 3,
   "metadata": {},
   "outputs": [],
   "source": [
    "# Se realiza una llamada a la página\n",
    "url = urllib.request.urlopen(enlace)\n",
    "CalidadAire=BeautifulSoup(url.read(),'lxml')"
   ]
  },
  {
   "cell_type": "code",
   "execution_count": 4,
   "metadata": {},
   "outputs": [],
   "source": [
    "# Se genera un diccionario vacío, donde se albergará los años como key y en los enlaces de descarga como values\n",
    "# Se tendrá que especificar los años que se quieran estudiar\n",
    "dict_link={}\n",
    "\n",
    "ano_inicio=2015\n",
    "ano_fin=2019"
   ]
  },
  {
   "cell_type": "code",
   "execution_count": 5,
   "metadata": {},
   "outputs": [],
   "source": [
    "# Se busca la etiqueta en la que está alojada la información de los datos de calidad del aire horario, y se\n",
    "# y se extrae el año y el enlace de descarga de los ficheros\n",
    "links=CalidadAire.find_all(\"a\", class_=\"asociada-link ico-zip\")\n",
    "for line in links:\n",
    "    link='https://datos.madrid.es'+line.get('href')\n",
    "    ano=int(line.find_previous(\"p\", class_=\"info-title\").string)\n",
    "    if (ano >= ano_inicio) & (ano <= ano_fin):\n",
    "        dict_link[ano]=link"
   ]
  },
  {
   "cell_type": "markdown",
   "metadata": {},
   "source": [
    "Al tener ya un diccionario con los años y los enlaces de descarga de datos horarios para cada año, se procederá a realizar la descarga de los datos para los años especificados anteriormente"
   ]
  },
  {
   "cell_type": "code",
   "execution_count": 6,
   "metadata": {},
   "outputs": [],
   "source": [
    "#Se crea la carpeta \"data\" y una subcarpeta \"source\"\n",
    "os.makedirs('/Users/Pablo/Documents/TFM/data/source')\n",
    "# Se establece la carpeta source como la carpeta de trabajo donde se guardarán las descargas\n",
    "os.chdir('/Users/Pablo/Documents/TFM/data/source')"
   ]
  },
  {
   "cell_type": "code",
   "execution_count": 7,
   "metadata": {},
   "outputs": [
    {
     "name": "stdout",
     "output_type": "stream",
     "text": [
      "Descargando la información del año 2019...\n",
      "¡Año 2019 completado!\n",
      "Descargando la información del año 2018...\n",
      "¡Año 2018 completado!\n",
      "Descargando la información del año 2017...\n",
      "¡Año 2017 completado!\n",
      "Descargando la información del año 2016...\n",
      "¡Año 2016 completado!\n",
      "Descargando la información del año 2015...\n",
      "¡Año 2015 completado!\n"
     ]
    }
   ],
   "source": [
    "# Se descargan\n",
    "for key,value in dict_link.items():\n",
    "        print(\"Descargando la información del año %s...\"%format(key))\n",
    "        zipname=str(key)+\".zip\"\n",
    "        urllib.request.urlretrieve(value, zipname)\n",
    "        with ZipFile(zipname, 'r') as zipObj:\n",
    "            # Get a list of all archived file names from the zip\n",
    "            listOfFileNames = zipObj.namelist()\n",
    "            # Iterate over the file names\n",
    "            for fileName in listOfFileNames:\n",
    "                # Check filename endswith txt\n",
    "                if fileName.endswith('.txt'): #donde pone txt antes había csv\n",
    "                    # Extract a single file from zip\n",
    "                    zipObj.extract(fileName, './')\n",
    "        \n",
    "        print(\"¡Año %s completado!\"%format(key))"
   ]
  },
  {
   "cell_type": "code",
   "execution_count": 8,
   "metadata": {},
   "outputs": [],
   "source": [
    "mes={\"ene_mo\":\"01\",\"ene\":\"01\",\n",
    "    \"feb_mo\":\"02\",\"feb\":\"02\",\n",
    "    \"mar_mo\":\"03\",\"mar\":\"03\",\n",
    "    \"abr_mo\":\"04\",\"abr\":\"04\",\n",
    "    \"may_mo\":\"05\",\"may\":\"05\",\n",
    "    \"jun_mo\":\"06\",\"jun\":\"06\",\n",
    "    \"jul_mo\":\"07\",\"jul\":\"07\",\n",
    "    \"ago_mo\":\"08\",\"ago\":\"08\",\n",
    "    \"sep_mo\":\"09\",\"sep\":\"09\",\n",
    "    \"oct_mo\":\"10\",\"oct\":\"10\",\n",
    "    \"nov_mo\":\"11\",\"nov\":\"11\",\n",
    "    \"dic_mo\":\"12\",\"dic\":\"12\"}"
   ]
  },
  {
   "cell_type": "code",
   "execution_count": 9,
   "metadata": {},
   "outputs": [],
   "source": [
    "# Cambio de nombre de los ficheros que albergan los datos de contaminación del aire, para que todos tengan \n",
    "# la estructura yymm.txt\n",
    "\n",
    "for file in os.listdir():\n",
    "    #print(file)\n",
    "    res = re.findall(r'[0-9]+', file)\n",
    "    #print(res)\n",
    "    if len(str(res))==8:\n",
    "        os.remove(file)\n",
    "        pass\n",
    "    else:\n",
    "        if res[0]=='17':\n",
    "            new_name=res[0]+mes[file[0:3]]+\".txt\"\n",
    "            os.rename(file,new_name)\n",
    "        else:\n",
    "            new_name=res[0]+mes[file[0:6]]+\".txt\"\n",
    "            os.rename(file,new_name)\n",
    "    "
   ]
  },
  {
   "cell_type": "code",
   "execution_count": 10,
   "metadata": {},
   "outputs": [],
   "source": [
    "for file in os.listdir():\n",
    "    if file<'1710.txt':\n",
    "        for line in fileinput.FileInput(file,inplace=1):\n",
    "            comas=[2,5,8,10,12,14,16,18,20]\n",
    "            for i,j in enumerate(comas):\n",
    "                line=list(line)\n",
    "                line.insert(i+j,',')\n",
    "            line=line[0:-1]\n",
    "            line=\"\".join(line)\n",
    "            line=re.sub(r\"[^V.,\\-(0-9)]\",\"N\",line)\n",
    "            line=line.replace(\"V\",\",V,\")\n",
    "            line=line.replace(\"N\",\",N,\")          \n",
    "            if line[len(line)-1]==',': line=line[0:(len(line)-1)]\n",
    "            print(line)"
   ]
  },
  {
   "cell_type": "code",
   "execution_count": null,
   "metadata": {},
   "outputs": [],
   "source": []
  }
 ],
 "metadata": {
  "kernelspec": {
   "display_name": "Python 3",
   "language": "python",
   "name": "python3"
  },
  "language_info": {
   "codemirror_mode": {
    "name": "ipython",
    "version": 3
   },
   "file_extension": ".py",
   "mimetype": "text/x-python",
   "name": "python",
   "nbconvert_exporter": "python",
   "pygments_lexer": "ipython3",
   "version": "3.6.8"
  }
 },
 "nbformat": 4,
 "nbformat_minor": 2
}
