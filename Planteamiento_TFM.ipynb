{
 "cells": [
  {
   "cell_type": "markdown",
   "metadata": {},
   "source": [
    "**Idea: Motivación y overview general. ¿Por qué me interesa el tema? ¿Qué conozco previamente? ¿Qué voy a hacer distinto de lo que existe? ¿Qué aporto?Aquí funciona muy bien que elijáis un tema que conocéis bien y/o os afecta personalmente. Aficiones vuestras, campos de experiencia laboral, problemas que hayáis visto a vuestro alrededor y a los que creáis que podéis aportar...**\n",
    "\n",
    "- Los tiempos cambian, y la gente toma hábitos diferentes a los de nuestra generación anterior. En la época de nuestros padres, lo normal era tener un trabajo estable y comprarte una casa. Hoy en día, las generaciones de jovenes cambian de trabajo varias veces a lo largo de su vida laboral y no ancla su vida a una vivienda como modo de inversión estable, sino que van cambiando de casa gracias a la flexibilidad del alquiler.\n",
    "\n",
    "- Toda ciudad está compuesta por una serie de barrios o distritos muy diferentes entre si, ya sea por ubicación, urbanismo, transito y precios. A la vista de tanta variedad, despertó en mi el interes de detectar las mejores zonas de Madrid, la ciudad donde vivo, en función de algunos parámetros como el precio de la vivienda, la calidad del aire o el transporte público.\n"
   ]
  },
  {
   "cell_type": "markdown",
   "metadata": {},
   "source": [
    "**Datos: de dónde los voy a sacar, o cómo los pienso generar? Los conozco ya? Los he explorado un poco? Si es creativo mucho mejor. No está prohibido coger un Kaggle y hacerlo, pero en mi experiencia suelen quedar TFMs muy muy pobres así. La imaginación es el límite.**\n",
    "- Los datos respecto a la calidad del aire se obtendrán del portal de datos públicos del ayuntamiento de Madrid\n",
    "- Respecto a la información de los precios de la vivienda "
   ]
  },
  {
   "cell_type": "markdown",
   "metadata": {},
   "source": [
    "**Objetivo: pretendo responder a una pregunta? Construir un modelo predictivo? En qué se parece/diferencia al state of the art? Hay algo similar hecho, y si es así en qué se diferencia lo que tengo pensado?**\n",
    "- Cuál es la mejor zona para vivir de Madrid? \n",
    "- Se pretende realizar una regresión de los valores de contaminación atmosférica para luego realizar una clasificación de la mejor zona para vivir en Madrid, en función del Indice de Calidad del Aire (ICA)"
   ]
  },
  {
   "cell_type": "markdown",
   "metadata": {},
   "source": [
    "**Técnicas de análisis que voy a aplicar y resultado que espero obtener. Tecnologías que pienso usar.**\n",
    "\n",
    "Se realizará las siguientes tareas:\n",
    "- Estracción de datos de la pagina oficial del ayuntamiento de Madrid mediante web scrapping con spider\n",
    "- Tratamiento de los datos para analizar los datos desde 2011 hasta el 2018\n",
    "- Visualización de los valores medios de contaminación así como una visualización geoespacial dinámica de los valores del ICA \n",
    "- Estimación de los valores medios futuros de los valores de ICA mediante ¿regresión? ¿series temporales?\n",
    "- Clasificador de la mejor zona"
   ]
  },
  {
   "cell_type": "markdown",
   "metadata": {},
   "source": [
    "**Project planning: qué voy a atacar primero? Cuáles son los objectivos de cada fase del proyecto? Planes de contigencia: si no consigo llegar al objetivo final, con qué me quedo?**"
   ]
  },
  {
   "cell_type": "code",
   "execution_count": null,
   "metadata": {},
   "outputs": [],
   "source": []
  }
 ],
 "metadata": {
  "kernelspec": {
   "display_name": "Python 3",
   "language": "python",
   "name": "python3"
  },
  "language_info": {
   "codemirror_mode": {
    "name": "ipython",
    "version": 3
   },
   "file_extension": ".py",
   "mimetype": "text/x-python",
   "name": "python",
   "nbconvert_exporter": "python",
   "pygments_lexer": "ipython3",
   "version": "3.6.8"
  }
 },
 "nbformat": 4,
 "nbformat_minor": 2
}
